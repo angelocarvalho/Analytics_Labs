{
 "cells": [
  {
   "cell_type": "code",
   "execution_count": null,
   "metadata": {},
   "outputs": [],
   "source": [
    "!pip install pandas\n",
    "!pip install pygeohash\n",
    "!pip install confluent_kafka"
   ]
  },
  {
   "cell_type": "code",
   "execution_count": null,
   "metadata": {},
   "outputs": [],
   "source": [
    "import pandas as pd"
   ]
  },
  {
   "cell_type": "code",
   "execution_count": null,
   "metadata": {},
   "outputs": [],
   "source": [
    "taxis_df = pd.read_csv(\"taxis_porto.csv\")"
   ]
  },
  {
   "cell_type": "code",
   "execution_count": null,
   "metadata": {
    "scrolled": true
   },
   "outputs": [],
   "source": [
    "ten_taxis_df = taxis_df[['TAXI_ID','POLYLINE']].copy()"
   ]
  },
  {
   "cell_type": "code",
   "execution_count": null,
   "metadata": {},
   "outputs": [],
   "source": [
    "import time\n",
    "import json\n",
    "\n",
    "from confluent_kafka import Producer\n",
    "\n",
    "host = 'endpoint:port,endpoint:port'\n",
    "\n",
    "p = Producer({'bootstrap.servers': host})\n",
    "\n",
    "def delivery_report(err, msg):\n",
    "    \"\"\" Called once for each message produced to indicate delivery result.\n",
    "        Triggered by poll() or flush(). \"\"\"\n",
    "    if err is not None:\n",
    "        print('Message delivery failed: {}'.format(err))\n",
    "    else:\n",
    "        print('Message delivered to {} [{}]'.format(msg.topic(), msg.partition()))\n",
    "        \n",
    "def sendToKafka(data):\n",
    "\n",
    "    p.poll(0)\n",
    "\n",
    "    p.produce('AWSKafkaTutorialTopic', data.encode('utf-8'), callback=delivery_report)\n",
    "\n",
    "    p.flush()"
   ]
  },
  {
   "cell_type": "code",
   "execution_count": null,
   "metadata": {},
   "outputs": [],
   "source": [
    "import time\n",
    "import json\n",
    "import pygeohash as pgh\n",
    "\n",
    "coordenada_index = 0\n",
    "while coordenada_index < 100:\n",
    "    print('coordenada ' + str(coordenada_index))\n",
    "\n",
    "    for taxi_index, row in ten_taxis_df.iterrows():\n",
    "\n",
    "        taxi_id = row['TAXI_ID']\n",
    "        polyline = row['POLYLINE']\n",
    "        polyline[0]\n",
    "\n",
    "        # parse x:\n",
    "        polyline_json = json.loads(polyline)\n",
    "\n",
    "        if coordenada_index < len(polyline_json) :\n",
    "            data_set = {'text': 't' + str(taxi_id), \"lat\": polyline_json[coordenada_index][1], \"lon\": polyline_json[coordenada_index][0]}\n",
    "\n",
    "            json_dump = json.dumps(data_set)\n",
    "            print(json_dump)\n",
    "            sendToKafka(json_dump)\n",
    "        else :\n",
    "            print('')\n",
    "\n",
    "        taxi_index += 1\n",
    "\n",
    "    coordenada_index += 1\n",
    "    time.sleep(5)"
   ]
  }
 ],
 "metadata": {
  "kernelspec": {
   "display_name": "Python 3",
   "language": "python",
   "name": "python3"
  },
  "language_info": {
   "codemirror_mode": {
    "name": "ipython",
    "version": 3
   },
   "file_extension": ".py",
   "mimetype": "text/x-python",
   "name": "python",
   "nbconvert_exporter": "python",
   "pygments_lexer": "ipython3",
   "version": "3.8.5"
  }
 },
 "nbformat": 4,
 "nbformat_minor": 4
}

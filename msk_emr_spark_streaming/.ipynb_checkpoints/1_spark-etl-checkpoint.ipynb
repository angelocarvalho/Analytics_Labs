{
 "cells": [
  {
   "cell_type": "code",
   "execution_count": null,
   "metadata": {},
   "outputs": [],
   "source": [
    "#emr notebook\n",
    "sc.install_pypi_package(\"boto3\")\n",
    "\n",
    "#sagemaer notebook\n",
    "#!pip install boto3"
   ]
  },
  {
   "cell_type": "code",
   "execution_count": null,
   "metadata": {},
   "outputs": [],
   "source": [
    "import sys\n",
    "from datetime import datetime\n",
    "\n",
    "from pyspark.sql import SparkSession\n",
    "from pyspark.sql.functions import *\n",
    "import boto3"
   ]
  },
  {
   "cell_type": "code",
   "execution_count": null,
   "metadata": {},
   "outputs": [],
   "source": [
    "bucket_name = '<<bucketname>>'\n",
    "s3_client = boto3.client('s3')\n",
    "s3_client.create_bucket(Bucket=bucket_name)\n",
    "s3_client.put_object(Bucket=bucket_name, Key=('output/'))"
   ]
  },
  {
   "cell_type": "code",
   "execution_count": null,
   "metadata": {},
   "outputs": [],
   "source": [
    "input_folder =  's3://aws-data-analytics-blog/emrimmersionday/tripdata.csv'\n",
    "output_folder = 's3://' + bucket_name + '/data/taxi'"
   ]
  },
  {
   "cell_type": "code",
   "execution_count": null,
   "metadata": {},
   "outputs": [],
   "source": [
    "spark = SparkSession\\\n",
    "    .builder\\\n",
    "    .appName(\"SparkETL\")\\\n",
    "    .getOrCreate()\n",
    "\n",
    "nyTaxi = spark.read.option(\"inferSchema\", \"true\").option(\"header\", \"true\").csv(input_folder)\n",
    "\n",
    "updatedNYTaxi = nyTaxi.withColumn(\"current_date\", lit(datetime.now()))\n",
    "\n",
    "updatedNYTaxi.printSchema()\n",
    "\n",
    "print(updatedNYTaxi.show())\n",
    "\n",
    "print(\"Total number of records: \" + str(updatedNYTaxi.count()))\n",
    "\n",
    "updatedNYTaxi.write.parquet(output_folder)"
   ]
  }
 ],
 "metadata": {
  "kernelspec": {
   "display_name": "Python 3",
   "language": "python",
   "name": "python3"
  },
  "language_info": {
   "codemirror_mode": {
    "name": "ipython",
    "version": 3
   },
   "file_extension": ".py",
   "mimetype": "text/x-python",
   "name": "python",
   "nbconvert_exporter": "python",
   "pygments_lexer": "ipython3",
   "version": "3.8.5"
  }
 },
 "nbformat": 4,
 "nbformat_minor": 4
}

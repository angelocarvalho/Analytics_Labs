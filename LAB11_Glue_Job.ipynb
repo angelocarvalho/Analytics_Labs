{
 "cells": [
  {
   "cell_type": "markdown",
   "metadata": {},
   "source": [
    "## 1) Let's prepare the scripts to be deployed as a Glue Job"
   ]
  },
  {
   "cell_type": "code",
   "execution_count": null,
   "metadata": {},
   "outputs": [],
   "source": [
    "%%bash\n",
    "mkdir /home/ec2-user/SageMaker/Analytics_Labs/glue_python_shell_sample"
   ]
  },
  {
   "cell_type": "code",
   "execution_count": null,
   "metadata": {},
   "outputs": [],
   "source": [
    "%%bash\n",
    "cd /home/ec2-user/SageMaker/Analytics_Labs/glue_python_shell_sample\n",
    "wget https://raw.githubusercontent.com/angelocarvalho/glue-python-shell-sample/master/glue-python-shell-sample-whl/setup.py"
   ]
  },
  {
   "cell_type": "code",
   "execution_count": null,
   "metadata": {},
   "outputs": [],
   "source": [
    "%%bash\n",
    "cd /home/ec2-user/SageMaker/Analytics_Labs/glue_python_shell_sample\n",
    "python3 setup.py bdist_wheel"
   ]
  },
  {
   "cell_type": "code",
   "execution_count": null,
   "metadata": {},
   "outputs": [],
   "source": [
    "%%bash\n",
    "cd /home/ec2-user/SageMaker/Analytics_Labs/glue_python_shell_sample/dist\n",
    "wget https://raw.githubusercontent.com/angelocarvalho/glue-python-shell-sample/master/etl_with_pandas.py"
   ]
  },
  {
   "cell_type": "code",
   "execution_count": null,
   "metadata": {},
   "outputs": [],
   "source": [
    "import simplejson\n",
    "with open('/opt/ml/metadata/resource-metadata.json') as fh:\n",
    "    metadata = simplejson.loads(fh.read())\n",
    "accountid = metadata['ResourceArn'].split(':')[4]\n",
    "\n",
    "%set_env accountid={accountid}\n",
    "%set_env bucket_name=lab-{accountid}"
   ]
  },
  {
   "cell_type": "markdown",
   "metadata": {},
   "source": [
    "## 2) Open the file etl_with_pandas.py and add your bucket name!"
   ]
  },
  {
   "cell_type": "code",
   "execution_count": null,
   "metadata": {},
   "outputs": [],
   "source": [
    "%%bash\n",
    "aws s3 cp /home/ec2-user/SageMaker/Analytics_Labs/glue_python_shell_sample/dist/glue_python_shell_sample_module-0.1-py3-none-any.whl s3://$bucket_name/lib/\n",
    "aws s3 cp /home/ec2-user/SageMaker/Analytics_Labs/glue_python_shell_sample/dist/etl_with_pandas.py s3://$bucket_name/scripts/"
   ]
  },
  {
   "cell_type": "markdown",
   "metadata": {},
   "source": [
    "## 3) Replace the iam role and and the bucket name before running the command bellow"
   ]
  },
  {
   "cell_type": "code",
   "execution_count": null,
   "metadata": {},
   "outputs": [],
   "source": [
    "%%bash\n",
    "aws glue create-job --name etl_with_pandas \\\n",
    "    --role <<nome_do_seu_iam_role>> \\\n",
    "    --command '{\"Name\" :  \"pythonshell\", \"PythonVersion\" : \"3\", \"ScriptLocation\" : \"s3://<<nome_do_seu_bucket>>/scripts/etl_with_pandas.py\"}' \\\n",
    "    --default-arguments '{\"--extra-py-files\" : \"s3://<<nome_do_seu_bucket>>/lib/glue_python_shell_sample_module-0.1-py3-none-any.whl\"}'"
   ]
  }
 ],
 "metadata": {
  "kernelspec": {
   "display_name": "conda_python3",
   "language": "python",
   "name": "conda_python3"
  },
  "language_info": {
   "codemirror_mode": {
    "name": "ipython",
    "version": 3
   },
   "file_extension": ".py",
   "mimetype": "text/x-python",
   "name": "python",
   "nbconvert_exporter": "python",
   "pygments_lexer": "ipython3",
   "version": "3.6.10"
  }
 },
 "nbformat": 4,
 "nbformat_minor": 4
}

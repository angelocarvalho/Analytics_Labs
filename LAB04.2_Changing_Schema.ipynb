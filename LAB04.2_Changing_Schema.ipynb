{
 "cells": [
  {
   "cell_type": "code",
   "execution_count": null,
   "metadata": {},
   "outputs": [],
   "source": [
    "import urllib.request\n",
    "from zipfile import ZipFile\n",
    "import pandas as pd\n",
    "import os"
   ]
  },
  {
   "cell_type": "code",
   "execution_count": null,
   "metadata": {},
   "outputs": [],
   "source": [
    "import datetime\n",
    "\n",
    "x = datetime.datetime.now()\n",
    "etl_date = x.strftime(\"%Y%m%d_%H%M%S\")\n",
    "print(etl_date) \n",
    "%set_env etl_date={etl_date}"
   ]
  },
  {
   "cell_type": "code",
   "execution_count": null,
   "metadata": {},
   "outputs": [],
   "source": [
    "import simplejson\n",
    "with open('/opt/ml/metadata/resource-metadata.json') as fh:\n",
    "    metadata = simplejson.loads(fh.read())\n",
    "accountid = metadata['ResourceArn'].split(':')[4]\n",
    "\n",
    "%set_env accountid={accountid}\n",
    "%set_env bucket_name=lab-{accountid}"
   ]
  },
  {
   "cell_type": "markdown",
   "metadata": {},
   "source": [
    "## Change the Value of the file_name below!"
   ]
  },
  {
   "cell_type": "code",
   "execution_count": null,
   "metadata": {},
   "outputs": [],
   "source": [
    "from pyarrow.parquet import ParquetDataset\n",
    "import s3fs\n",
    "\n",
    "folder_name= \"s3://\" + os.getenv('bucket_name') + \"/data/analytics/best_movies/\"\n",
    "s3 = s3fs.S3FileSystem()\n",
    "paths = [path for path in s3.ls(folder_name) if path.endswith(\".parquet.snappy\")]\n",
    "dataset = ParquetDataset(paths, filesystem=s3)\n",
    "table = dataset.read()\n",
    "movies_df = table.to_pandas()\n",
    "print(\"movies_df has %s lines\" % movies_df.shape[0])\n",
    "movies_df[\"flag\"] = 1\n",
    "movies_df[0:10]"
   ]
  },
  {
   "cell_type": "code",
   "execution_count": null,
   "metadata": {},
   "outputs": [],
   "source": [
    "movies_df.to_parquet(\n",
    "        \"s3://\" + \n",
    "        os.getenv('bucket_name') + \n",
    "        \"/data/analytics/best_movies/best_movies_\" +\n",
    "        etl_date + \n",
    "        \".parquet.snappy\")"
   ]
  },
  {
   "cell_type": "markdown",
   "metadata": {},
   "source": [
    "## Now, run you crawler again!"
   ]
  }
 ],
 "metadata": {
  "kernelspec": {
   "display_name": "conda_python3",
   "language": "python",
   "name": "conda_python3"
  },
  "language_info": {
   "codemirror_mode": {
    "name": "ipython",
    "version": 3
   },
   "file_extension": ".py",
   "mimetype": "text/x-python",
   "name": "python",
   "nbconvert_exporter": "python",
   "pygments_lexer": "ipython3",
   "version": "3.6.10"
  }
 },
 "nbformat": 4,
 "nbformat_minor": 4
}
